{
 "cells": [
  {
   "cell_type": "code",
   "execution_count": 4,
   "id": "f9383998",
   "metadata": {
    "ExecuteTime": {
     "end_time": "2022-09-08T18:27:38.666245Z",
     "start_time": "2022-09-08T18:27:38.585457Z"
    }
   },
   "outputs": [
    {
     "data": {
      "text/plain": [
       "{'whiskers': [<matplotlib.lines.Line2D at 0x2229f545550>,\n",
       "  <matplotlib.lines.Line2D at 0x2229f545820>],\n",
       " 'caps': [<matplotlib.lines.Line2D at 0x2229f545af0>,\n",
       "  <matplotlib.lines.Line2D at 0x2229f545dc0>],\n",
       " 'boxes': [<matplotlib.lines.Line2D at 0x2229f545250>],\n",
       " 'medians': [<matplotlib.lines.Line2D at 0x2229f7830d0>],\n",
       " 'fliers': [<matplotlib.lines.Line2D at 0x2229f7833a0>],\n",
       " 'means': []}"
      ]
     },
     "execution_count": 4,
     "metadata": {},
     "output_type": "execute_result"
    },
    {
     "data": {
      "image/png": "[encoded data removed]",
      "text/plain": [
       "<Figure size 432x288 with 1 Axes>"
      ]
     },
     "metadata": {
      "needs_background": "light"
     },
     "output_type": "display_data"
    }
   ],
   "source": [
    "import matplotlib.pyplot as plt\n",
    "import random\n",
    "\n",
    "vetor = []\n",
    "\n",
    "for i in range(10):\n",
    "    numero_aleatorio = random.randint(0, 5)\n",
    "    vetor.append(numero_aleatorio)\n",
    "\n",
    "plt.title(\"Boxplot\")\n",
    "plt.boxplot(vetor)"
   ]
  }
 ],
 "metadata": {
  "kernelspec": {
   "display_name": "Python 3 (ipykernel)",
   "language": "python",
   "name": "python3"
  },
  "language_info": {
   "codemirror_mode": {
    "name": "ipython",
    "version": 3
   },
   "file_extension": ".py",
   "mimetype": "text/x-python",
   "name": "python",
   "nbconvert_exporter": "python",
   "pygments_lexer": "ipython3",
   "version": "3.9.12"
  },
  "nbTranslate": {
   "displayLangs": [
    "*"
   ],
   "hotkey": "alt-t",
   "langInMainMenu": true,
   "sourceLang": "en",
   "targetLang": "fr",
   "useGoogleTranslate": true
  },
  "toc": {
   "base_numbering": 1,
   "nav_menu": {},
   "number_sections": true,
   "sideBar": true,
   "skip_h1_title": false,
   "title_cell": "Table of Contents",
   "title_sidebar": "Contents",
   "toc_cell": false,
   "toc_position": {},
   "toc_section_display": true,
   "toc_window_display": false
  },
  "varInspector": {
   "cols": {
    "lenName": 16,
    "lenType": 16,
    "lenVar": 40
   },
   "kernels_config": {
    "python": {
     "delete_cmd_postfix": "",
     "delete_cmd_prefix": "del ",
     "library": "var_list.py",
     "varRefreshCmd": "print(var_dic_list())"
    },
    "r": {
     "delete_cmd_postfix": ") ",
     "delete_cmd_prefix": "rm(",
     "library": "var_list.r",
     "varRefreshCmd": "cat(var_dic_list()) "
    }
   },
   "types_to_exclude": [
    "module",
    "function",
    "builtin_function_or_method",
    "instance",
    "_Feature"
   ],
   "window_display": false
  }
 },
 "nbformat": 4,
 "nbformat_minor": 5
}
