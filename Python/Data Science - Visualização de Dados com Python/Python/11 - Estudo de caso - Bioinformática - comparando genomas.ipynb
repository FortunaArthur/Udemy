{
 "cells": [
  {
   "cell_type": "markdown",
   "id": "29c0dddb",
   "metadata": {},
   "source": [
    "## Este é o codigo da aula do cara, ele não roda, e foi a ultima coisa q ele fez, este curso não é bom"
   ]
  },
  {
   "cell_type": "code",
   "execution_count": null,
   "id": "bf0027f8",
   "metadata": {
    "ExecuteTime": {
     "end_time": "2022-09-08T20:43:22.003013Z",
     "start_time": "2022-09-08T20:43:21.981072Z"
    }
   },
   "outputs": [],
   "source": [
    "# entrada = open(r\"C:\\Users\\arthu\\Downloads\\bacteria.fasta\").read()\n",
    "# saida = open(\"bacteria.html\", \"w\")\n",
    "\n",
    "# cont = {}\n",
    "\n",
    "# for i in [\"A\", \"T\", \"C\", \"G\"]:\n",
    "#     for j in [\"A\", \"T\", \"C\", \"G\"]:\n",
    "#         cont[i+j] = 0\n",
    "\n",
    "# cont\n",
    "        \n",
    "# # entrada = entrada.replace(\"\\n\", \"\")        \n",
    "\n",
    "# # for k in range(len(entrada)-1):\n",
    "# #     cont[entrada[k] + entrada[k+1]] += 1\n",
    "    \n",
    "# # i = 1\n",
    "# # for k in cont:\n",
    "# #     transferencia = cont[k] / max(cont.values())\n",
    "# #     saida.write(\"<div style='width:100px; border:1px solid #111; height:100px float:left; background-color:rgba(0, 0, 255, \"+str(transferencia)+\"'')<>/div>\")\n",
    "    \n",
    "# #     if i%4 == 0:\n",
    "# #         saida.write()"
   ]
  }
 ],
 "metadata": {
  "kernelspec": {
   "display_name": "Python 3 (ipykernel)",
   "language": "python",
   "name": "python3"
  },
  "language_info": {
   "codemirror_mode": {
    "name": "ipython",
    "version": 3
   },
   "file_extension": ".py",
   "mimetype": "text/x-python",
   "name": "python",
   "nbconvert_exporter": "python",
   "pygments_lexer": "ipython3",
   "version": "3.9.12"
  },
  "nbTranslate": {
   "displayLangs": [
    "*"
   ],
   "hotkey": "alt-t",
   "langInMainMenu": true,
   "sourceLang": "en",
   "targetLang": "fr",
   "useGoogleTranslate": true
  },
  "toc": {
   "base_numbering": 1,
   "nav_menu": {},
   "number_sections": true,
   "sideBar": true,
   "skip_h1_title": false,
   "title_cell": "Table of Contents",
   "title_sidebar": "Contents",
   "toc_cell": false,
   "toc_position": {},
   "toc_section_display": true,
   "toc_window_display": false
  },
  "varInspector": {
   "cols": {
    "lenName": 16,
    "lenType": 16,
    "lenVar": 40
   },
   "kernels_config": {
    "python": {
     "delete_cmd_postfix": "",
     "delete_cmd_prefix": "del ",
     "library": "var_list.py",
     "varRefreshCmd": "print(var_dic_list())"
    },
    "r": {
     "delete_cmd_postfix": ") ",
     "delete_cmd_prefix": "rm(",
     "library": "var_list.r",
     "varRefreshCmd": "cat(var_dic_list()) "
    }
   },
   "types_to_exclude": [
    "module",
    "function",
    "builtin_function_or_method",
    "instance",
    "_Feature"
   ],
   "window_display": false
  }
 },
 "nbformat": 4,
 "nbformat_minor": 5
}
