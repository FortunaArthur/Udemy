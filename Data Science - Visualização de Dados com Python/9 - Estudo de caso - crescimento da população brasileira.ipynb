{
 "cells": [
  {
   "cell_type": "markdown",
   "id": "099a2df6",
   "metadata": {},
   "source": [
    "## Crescimento da População Brasileira (1980 - 2016)"
   ]
  },
  {
   "cell_type": "markdown",
   "id": "2a259aa9",
   "metadata": {},
   "source": [
    "### Veizualize os Dados e Salve a Figura em PNG"
   ]
  },
  {
   "cell_type": "code",
   "execution_count": 27,
   "id": "50b6a23e",
   "metadata": {
    "ExecuteTime": {
     "end_time": "2022-09-08T00:17:10.253199Z",
     "start_time": "2022-09-08T00:17:09.894154Z"
    }
   },
   "outputs": [
    {
     "data": {
      "image/png": "[encoded data removed]",
      "text/plain": [
       "<Figure size 432x288 with 1 Axes>"
      ]
     },
     "metadata": {
      "needs_background": "light"
     },
     "output_type": "display_data"
    }
   ],
   "source": [
    "import matplotlib.pyplot as plt\n",
    "\n",
    "dados = open(r\"C:\\Users\\arthu\\Downloads\\populacao_brasileira.csv\").readlines()\n",
    "\n",
    "x = []\n",
    "y = []\n",
    "\n",
    "for i in range (len(dados)):\n",
    "    if i != 0:\n",
    "        linha = dados[i].split(\";\")\n",
    "        x.append(int(linha[0]))\n",
    "        y.append(int(linha[1]))\n",
    "        \n",
    "# Legendas\n",
    "plt.title(\"Crescimento da População Brasileira\")\n",
    "plt.xlabel(\"Ano\")\n",
    "plt.ylabel(\"População x 100.000.000\")\n",
    "\n",
    "# Plotagem\n",
    "plt.bar(x, y, color = \"#e4e4e4\")\n",
    "plt.plot(x, y, color = \"Green\", linestyle = \"--\") # OU # plt.scatter(x, y, color = \"k\")\n",
    "\n",
    "# Salvar Figura\n",
    "plt.savefig(\"Crescimento da População Brasileira.png\", dpi = 300)"
   ]
  }
 ],
 "metadata": {
  "kernelspec": {
   "display_name": "Python 3 (ipykernel)",
   "language": "python",
   "name": "python3"
  },
  "language_info": {
   "codemirror_mode": {
    "name": "ipython",
    "version": 3
   },
   "file_extension": ".py",
   "mimetype": "text/x-python",
   "name": "python",
   "nbconvert_exporter": "python",
   "pygments_lexer": "ipython3",
   "version": "3.9.12"
  },
  "nbTranslate": {
   "displayLangs": [
    "*"
   ],
   "hotkey": "alt-t",
   "langInMainMenu": true,
   "sourceLang": "en",
   "targetLang": "fr",
   "useGoogleTranslate": true
  },
  "toc": {
   "base_numbering": 1,
   "nav_menu": {},
   "number_sections": true,
   "sideBar": true,
   "skip_h1_title": false,
   "title_cell": "Table of Contents",
   "title_sidebar": "Contents",
   "toc_cell": false,
   "toc_position": {},
   "toc_section_display": true,
   "toc_window_display": false
  },
  "varInspector": {
   "cols": {
    "lenName": 16,
    "lenType": 16,
    "lenVar": 40
   },
   "kernels_config": {
    "python": {
     "delete_cmd_postfix": "",
     "delete_cmd_prefix": "del ",
     "library": "var_list.py",
     "varRefreshCmd": "print(var_dic_list())"
    },
    "r": {
     "delete_cmd_postfix": ") ",
     "delete_cmd_prefix": "rm(",
     "library": "var_list.r",
     "varRefreshCmd": "cat(var_dic_list()) "
    }
   },
   "types_to_exclude": [
    "module",
    "function",
    "builtin_function_or_method",
    "instance",
    "_Feature"
   ],
   "window_display": false
  }
 },
 "nbformat": 4,
 "nbformat_minor": 5
}
