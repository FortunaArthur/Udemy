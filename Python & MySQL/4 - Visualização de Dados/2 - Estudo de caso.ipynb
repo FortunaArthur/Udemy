{
 "cells": [
  {
   "cell_type": "markdown",
   "id": "cd63810f",
   "metadata": {},
   "source": [
    "# Crescimento da população brasileira"
   ]
  },
  {
   "cell_type": "code",
   "execution_count": 6,
   "id": "d3ca712b",
   "metadata": {
    "ExecuteTime": {
     "end_time": "2022-10-16T20:40:10.779601Z",
     "start_time": "2022-10-16T20:40:09.627004Z"
    }
   },
   "outputs": [
    {
     "data": {
      "image/png": "[encoded data removed]",
      "text/plain": [
       "<Figure size 432x288 with 1 Axes>"
      ]
     },
     "metadata": {
      "needs_background": "light"
     },
     "output_type": "display_data"
    }
   ],
   "source": [
    "# Crescimento da População Brasileira 1980-2016\n",
    "import matplotlib.pyplot as plt\n",
    "\n",
    "dados = open(\"populacao_brasileira.csv\").readlines()\n",
    "\n",
    "x = []\n",
    "y = []\n",
    "\n",
    "for i in range(len(dados)):\n",
    "\tif i != 0:\n",
    "\t\tlinha = dados[i].split(\";\")\n",
    "\t\tx.append(int(linha[0]))\n",
    "\t\ty.append(int(linha[1]))\n",
    "\n",
    "plt.bar(x, y, color=\"#e4e4e4\")\n",
    "plt.plot(x, y, color='k', linestyle=\"--\")\n",
    "\n",
    "plt.title(\"Crescimento da População Brasileira 1980-2016\")\n",
    "plt.xlabel(\"Ano\")\n",
    "plt.ylabel(\"População x100.000.000\")\n",
    "#plt.show()\n",
    "plt.savefig(\"populacao_brasileira.png\", dpi=300)"
   ]
  },
  {
   "cell_type": "markdown",
   "id": "c5fe59b9",
   "metadata": {},
   "source": [
    "# Bioinformática - comparando genomas\n"
   ]
  },
  {
   "cell_type": "code",
   "execution_count": 9,
   "id": "da2caac0",
   "metadata": {
    "ExecuteTime": {
     "end_time": "2022-10-16T20:41:43.331818Z",
     "start_time": "2022-10-16T20:41:43.322844Z"
    }
   },
   "outputs": [],
   "source": [
    "entrada = open(\"16s_bacteria.fasta\").read()\n",
    "saida = open(\"16s_bacteria.html\",\"w\")\n",
    "# entrada = open(\"18s_humano.fasta\").read()\n",
    "# saida = open(\"18s_humano.html\",\"w\")\n",
    " \n",
    "cont = {}\n",
    " \n",
    "for i in ['A', 'T', 'C', 'G']:\n",
    "    for j in ['A', 'T', 'C', 'G']:\n",
    "        cont[i+j] = 0\n",
    "        \n",
    "entrada = entrada.replace(\"\\n\",\"\")\n",
    " \n",
    "for k in range(len(entrada)-1):\n",
    "    cont[entrada[k]+entrada[k+1]] += 1\n",
    "\n",
    "# html   \n",
    "\n",
    "saida.write(\"<div>\")\n",
    " \n",
    "i = 1\n",
    "for k in cont:\n",
    "    transparencia = cont[k]/max(cont.values())\n",
    "    saida.write(\"<div style='width:100px; border:1px solid #111; color:#fff; height:100px; float:left; background-color:rgba(0, 0, 0, \"+str(transparencia)+\"')>\"+k+\"</div>\")\n",
    "    \n",
    "if i%4 == 0:\n",
    "    saida.write(\"<div style='clear:both'></div>\")\n",
    "    i+=1\n",
    "    \n",
    "saida.close()"
   ]
  }
 ],
 "metadata": {
  "kernelspec": {
   "display_name": "Python 3 (ipykernel)",
   "language": "python",
   "name": "python3"
  },
  "language_info": {
   "codemirror_mode": {
    "name": "ipython",
    "version": 3
   },
   "file_extension": ".py",
   "mimetype": "text/x-python",
   "name": "python",
   "nbconvert_exporter": "python",
   "pygments_lexer": "ipython3",
   "version": "3.9.12"
  },
  "nbTranslate": {
   "displayLangs": [
    "*"
   ],
   "hotkey": "alt-t",
   "langInMainMenu": true,
   "sourceLang": "en",
   "targetLang": "fr",
   "useGoogleTranslate": true
  },
  "toc": {
   "base_numbering": 1,
   "nav_menu": {},
   "number_sections": true,
   "sideBar": true,
   "skip_h1_title": false,
   "title_cell": "Table of Contents",
   "title_sidebar": "Contents",
   "toc_cell": false,
   "toc_position": {},
   "toc_section_display": true,
   "toc_window_display": false
  },
  "varInspector": {
   "cols": {
    "lenName": 16,
    "lenType": 16,
    "lenVar": 40
   },
   "kernels_config": {
    "python": {
     "delete_cmd_postfix": "",
     "delete_cmd_prefix": "del ",
     "library": "var_list.py",
     "varRefreshCmd": "print(var_dic_list())"
    },
    "r": {
     "delete_cmd_postfix": ") ",
     "delete_cmd_prefix": "rm(",
     "library": "var_list.r",
     "varRefreshCmd": "cat(var_dic_list()) "
    }
   },
   "types_to_exclude": [
    "module",
    "function",
    "builtin_function_or_method",
    "instance",
    "_Feature"
   ],
   "window_display": false
  }
 },
 "nbformat": 4,
 "nbformat_minor": 5
}
